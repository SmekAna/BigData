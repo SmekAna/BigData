{
  "nbformat": 4,
  "nbformat_minor": 0,
  "metadata": {
    "colab": {
      "provenance": []
    },
    "kernelspec": {
      "display_name": "Python 3",
      "language": "python",
      "name": "python3"
    },
    "language_info": {
      "codemirror_mode": {
        "name": "ipython",
        "version": 3
      },
      "file_extension": ".py",
      "mimetype": "text/x-python",
      "name": "python",
      "nbconvert_exporter": "python",
      "pygments_lexer": "ipython3",
      "version": "3.6.5"
    }
  },
  "cells": [
    {
      "cell_type": "code",
      "source": [
        "!apt-get install openjdk-8-jdk-headless -qq > /dev/null\n",
        "!wget -q http://archive.apache.org/dist/spark/spark-3.1.1/spark-3.1.1-bin-hadoop3.2.tgz\n",
        "!tar xf spark-3.1.1-bin-hadoop3.2.tgz"
      ],
      "metadata": {
        "id": "oMUGZXihM-Bn"
      },
      "execution_count": 1,
      "outputs": []
    },
    {
      "cell_type": "code",
      "source": [
        "import os\n",
        "os.environ[\"SPARK_HOME\"] = \"/content/spark-3.1.1-bin-hadoop3.2\"\n",
        "os.environ[\"JAVA_HOME\"] = \"/usr/lib/jvm/java-8-openjdk-amd64\"\n",
        "!pip install findspark"
      ],
      "metadata": {
        "id": "vfUPRwQwF7xx",
        "colab": {
          "base_uri": "https://localhost:8080/"
        },
        "outputId": "b6379e59-6151-4a6c-c4d7-1431d2cc2d19"
      },
      "execution_count": 18,
      "outputs": [
        {
          "output_type": "stream",
          "name": "stdout",
          "text": [
            "Requirement already satisfied: findspark in /usr/local/lib/python3.10/dist-packages (2.0.1)\n"
          ]
        }
      ]
    },
    {
      "cell_type": "code",
      "source": [
        "import findspark\n",
        "findspark.init()\n",
        "!pip3 install pyspark==3.0.0"
      ],
      "metadata": {
        "id": "FrQKNPr1HMMi",
        "colab": {
          "base_uri": "https://localhost:8080/"
        },
        "outputId": "173479fd-8df0-41d2-f394-25c57ad91db2"
      },
      "execution_count": 19,
      "outputs": [
        {
          "output_type": "stream",
          "name": "stdout",
          "text": [
            "Requirement already satisfied: pyspark==3.0.0 in /usr/local/lib/python3.10/dist-packages (3.0.0)\n",
            "Requirement already satisfied: py4j==0.10.9 in /usr/local/lib/python3.10/dist-packages (from pyspark==3.0.0) (0.10.9)\n"
          ]
        }
      ]
    },
    {
      "cell_type": "markdown",
      "metadata": {
        "id": "iox_ufgbqDXa"
      },
      "source": [
        "<h1><center>Инициализация</center></h1>"
      ]
    },
    {
      "cell_type": "code",
      "source": [
        "from pyspark import SparkContext, SparkConf\n",
        "from pyspark.sql import SparkSession\n",
        "from pyspark.sql.window import Window\n",
        "from pyspark.sql.types import DoubleType, IntegerType, ArrayType, StringType\n",
        "from pyspark.sql.functions import udf, explode, rank, col, max, sum, desc, countDistinct\n",
        "import re\n",
        "from typing import List\n",
        "import pyspark.sql as sql"
      ],
      "metadata": {
        "id": "Q6Mu_GodJPpQ"
      },
      "execution_count": 6,
      "outputs": []
    },
    {
      "cell_type": "code",
      "source": [
        "spark = SparkSession \\\n",
        "    .builder \\\n",
        "    .appName(\"L2_reports_with_apache_spark\") \\\n",
        "    .config(\"spark.jars.packages\", \"com.databricks:spark-xml_2.12:0.13.0\") \\\n",
        "    .getOrCreate()"
      ],
      "metadata": {
        "id": "y4FJqAjJLwXX"
      },
      "execution_count": 7,
      "outputs": []
    },
    {
      "cell_type": "markdown",
      "metadata": {
        "id": "FFnYZltvqLgt"
      },
      "source": [
        "<h1><center>Загрузка</center></h1>"
      ]
    },
    {
      "cell_type": "code",
      "source": [
        "import os\n",
        "prog_path = '/content/programming-languages.csv'\n",
        "posts_path = '/content/posts_sample.xml'\n",
        "posts = spark.read.format('xml').options(rowTag='row').load(posts_path)"
      ],
      "metadata": {
        "id": "iexpAYsaONcP"
      },
      "execution_count": 8,
      "outputs": []
    },
    {
      "cell_type": "code",
      "source": [
        "program = spark.read \\\n",
        "      .option(\"header\", True) \\\n",
        "      .option(\"inferSchema\", True) \\\n",
        "      .option(\"DateTimeFormat\", 'M/d/y H:m') \\\n",
        "      .csv(prog_path)"
      ],
      "metadata": {
        "id": "UEugO35IKflk"
      },
      "execution_count": 10,
      "outputs": []
    },
    {
      "cell_type": "markdown",
      "metadata": {
        "id": "bGbIBPLHqVXc"
      },
      "source": [
        "<h1><center>Решение</center></h1>"
      ]
    },
    {
      "cell_type": "code",
      "source": [
        "def get_year(date_and_time):\n",
        "    return date_and_time.year\n",
        "\n",
        "def get_tags(tags_string):\n",
        "    if tags_string is None:\n",
        "        return []\n",
        "    pattern = r'<(.+?)>'\n",
        "    tags = re.findall(pattern, tags_string)\n",
        "    return tags\n",
        "\n",
        "get_tags_udf = udf(get_tags, ArrayType(StringType()))\n",
        "get_year_udf = udf(get_year, IntegerType())\n",
        "posts_data_simplified = posts \\\n",
        "                    .withColumn(\"tags\", get_tags_udf(posts[\"_Tags\"])) \\\n",
        "                    .withColumn(\"year\", get_year_udf(posts[\"_LastActivityDate\"]))\n",
        "posts_data_simplified = posts_data_simplified.select(col(\"tags\"), col(\"year\"), col(\"_ViewCount\").alias(\"views\"))\n",
        "first_rows = posts_data_simplified.head(10)\n",
        "for i, row in enumerate(first_rows):\n",
        "    print(i+1, row)\n",
        "\n",
        "\n",
        "posts_data_sort = posts_data_simplified.select(\"year\", explode(\"tags\").alias(\"tag\"), \"views\")\n",
        "\n",
        "posts_data_sort = posts_data_sort.groupBy(\"year\", \"tag\").agg(sum(\"views\").alias(\"total_views\")) #группировка по году последней активности и тегам, сложение всех просмотров для каждого яп в рамках одного года\n",
        "\n",
        "posts_data_sort = posts_data_sort.orderBy(\"year\", desc(\"total_views\"))\n",
        "posts_data_sort.show()\n",
        "\n",
        "\n",
        "window = Window.partitionBy(\"year\").orderBy(posts_data_sort[\"total_views\"].desc())\n",
        "\n",
        "#добавляем колонку rank в DataFrame\n",
        "rank_df = posts_data_sort.withColumn(\"rank\", rank().over(window))\n",
        "res_df = rank_df.filter(rank_df[\"rank\"] <= 5)\n",
        "res_df = res_df.select(\"year\", \"tag\", \"total_views\")\n",
        "\n",
        "posts_data_sort_res = res_df.orderBy(\"year\", desc(\"total_views\"))\n",
        "posts_data_sort_res.show()\n",
        "posts_data_sort_res.write.parquet(\"posts_data_sorted_result.parquet\")"
      ],
      "metadata": {
        "id": "Zrp8QKhQSGUe",
        "colab": {
          "base_uri": "https://localhost:8080/"
        },
        "outputId": "f4daee3c-a251-4893-a32b-0effa32582ac"
      },
      "execution_count": 16,
      "outputs": [
        {
          "output_type": "stream",
          "name": "stdout",
          "text": [
            "1 Row(tags=['c#', 'floating-point', 'type-conversion', 'double', 'decimal'], year=2019, views=42817)\n",
            "2 Row(tags=['html', 'css', 'internet-explorer-7'], year=2019, views=18214)\n",
            "3 Row(tags=[], year=2017, views=None)\n",
            "4 Row(tags=['c#', '.net', 'datetime'], year=2019, views=555183)\n",
            "5 Row(tags=['c#', 'datetime', 'time', 'datediff', 'relative-time-span'], year=2019, views=149445)\n",
            "6 Row(tags=[], year=2018, views=None)\n",
            "7 Row(tags=['html', 'browser', 'timezone', 'user-agent', 'timezone-offset'], year=2019, views=176405)\n",
            "8 Row(tags=['.net', 'math'], year=2018, views=123231)\n",
            "9 Row(tags=[], year=2010, views=None)\n",
            "10 Row(tags=[], year=2010, views=None)\n",
            "+----+--------------------+-----------+\n",
            "|year|                 tag|total_views|\n",
            "+----+--------------------+-----------+\n",
            "|2008|                  c#|      25401|\n",
            "|2008|                .net|      24321|\n",
            "|2008|            database|      19682|\n",
            "|2008|               local|      19682|\n",
            "|2008|                java|      11532|\n",
            "|2008|         inheritance|      10971|\n",
            "|2008|       accessibility|       7700|\n",
            "|2008|           variables|       7700|\n",
            "|2008|               excel|       6540|\n",
            "|2008|          automation|       6540|\n",
            "|2008|           interface|       3271|\n",
            "|2008|      castle-windsor|       2927|\n",
            "|2008|       configuration|       2927|\n",
            "|2008|dependency-injection|       2927|\n",
            "|2008|               linux|       2393|\n",
            "|2008|                ruby|       1843|\n",
            "|2008|       ruby-on-rails|       1843|\n",
            "|2008|  visual-studio-2008|       1432|\n",
            "|2008|            .net-2.0|       1432|\n",
            "|2008|  visual-studio-2005|       1432|\n",
            "+----+--------------------+-----------+\n",
            "only showing top 20 rows\n",
            "\n",
            "+----+--------------------+-----------+\n",
            "|year|                 tag|total_views|\n",
            "+----+--------------------+-----------+\n",
            "|2008|                  c#|      25401|\n",
            "|2008|                .net|      24321|\n",
            "|2008|            database|      19682|\n",
            "|2008|               local|      19682|\n",
            "|2008|                java|      11532|\n",
            "|2009|                  c#|      73661|\n",
            "|2009|                .net|      39167|\n",
            "|2009|              python|      32219|\n",
            "|2009|                 c++|      29381|\n",
            "|2009|            winforms|      25670|\n",
            "|2010|                  c#|     128597|\n",
            "|2010|              arrays|      80868|\n",
            "|2010|                java|      53333|\n",
            "|2010|multidimensional-...|      51865|\n",
            "|2010|              matlab|      51865|\n",
            "|2011|                  c#|     238076|\n",
            "|2011|                java|     121315|\n",
            "|2011|                .net|     120734|\n",
            "|2011|                 css|     119302|\n",
            "|2011|             android|     107283|\n",
            "+----+--------------------+-----------+\n",
            "only showing top 20 rows\n",
            "\n"
          ]
        }
      ]
    },
    {
      "cell_type": "code",
      "source": [
        "import shutil\n",
        "directory_path = \"posts_data_sorted_result.parquet\"\n",
        "shutil.rmtree(directory_path) #удаление директории"
      ],
      "metadata": {
        "id": "7leAyi2bC5hp"
      },
      "execution_count": 14,
      "outputs": []
    }
  ]
}