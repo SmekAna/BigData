{
  "nbformat": 4,
  "nbformat_minor": 0,
  "metadata": {
    "colab": {
      "provenance": []
    },
    "kernelspec": {
      "display_name": "Python 3",
      "language": "python",
      "name": "python3"
    },
    "language_info": {
      "codemirror_mode": {
        "name": "ipython",
        "version": 3
      },
      "file_extension": ".py",
      "mimetype": "text/x-python",
      "name": "python",
      "nbconvert_exporter": "python",
      "pygments_lexer": "ipython3",
      "version": "3.6.5"
    }
  },
  "cells": [
    {
      "cell_type": "code",
      "source": [
        "!apt-get install openjdk-8-jdk-headless -qq > /dev/null\n",
        "!wget -q http://archive.apache.org/dist/spark/spark-3.1.1/spark-3.1.1-bin-hadoop3.2.tgz\n",
        "!tar xf spark-3.1.1-bin-hadoop3.2.tgz"
      ],
      "metadata": {
        "id": "oMUGZXihM-Bn"
      },
      "execution_count": 1,
      "outputs": []
    },
    {
      "cell_type": "code",
      "source": [
        "import os\n",
        "os.environ[\"SPARK_HOME\"] = \"/content/spark-3.1.1-bin-hadoop3.2\"\n",
        "os.environ[\"JAVA_HOME\"] = \"/usr/lib/jvm/java-8-openjdk-amd64\""
      ],
      "metadata": {
        "id": "vfUPRwQwF7xx"
      },
      "execution_count": 2,
      "outputs": []
    },
    {
      "cell_type": "code",
      "source": [
        "!pip install findspark\n",
        "import findspark\n",
        "findspark.init()"
      ],
      "metadata": {
        "colab": {
          "base_uri": "https://localhost:8080/"
        },
        "id": "dNsveonvGsod",
        "outputId": "d1e0dffe-7ef4-48e2-c3d7-ba47d8e8d4c5"
      },
      "execution_count": 3,
      "outputs": [
        {
          "output_type": "stream",
          "name": "stdout",
          "text": [
            "Collecting findspark\n",
            "  Downloading findspark-2.0.1-py2.py3-none-any.whl (4.4 kB)\n",
            "Installing collected packages: findspark\n",
            "Successfully installed findspark-2.0.1\n"
          ]
        }
      ]
    },
    {
      "cell_type": "code",
      "source": [
        "!pip3 install pyspark==3.0.0"
      ],
      "metadata": {
        "colab": {
          "base_uri": "https://localhost:8080/"
        },
        "id": "3ngJ3sL6KKkq",
        "outputId": "926a143c-0414-464e-ddec-3ad66a1d3e36"
      },
      "execution_count": 5,
      "outputs": [
        {
          "output_type": "stream",
          "name": "stdout",
          "text": [
            "Collecting pyspark==3.0.0\n",
            "  Downloading pyspark-3.0.0.tar.gz (204.7 MB)\n",
            "\u001b[2K     \u001b[90m━━━━━━━━━━━━━━━━━━━━━━━━━━━━━━━━━━━━━━━━\u001b[0m \u001b[32m204.7/204.7 MB\u001b[0m \u001b[31m5.1 MB/s\u001b[0m eta \u001b[36m0:00:00\u001b[0m\n",
            "\u001b[?25h  Preparing metadata (setup.py) ... \u001b[?25l\u001b[?25hdone\n",
            "Collecting py4j==0.10.9 (from pyspark==3.0.0)\n",
            "  Downloading py4j-0.10.9-py2.py3-none-any.whl (198 kB)\n",
            "\u001b[2K     \u001b[90m━━━━━━━━━━━━━━━━━━━━━━━━━━━━━━━━━━━━━━━━\u001b[0m \u001b[32m198.6/198.6 kB\u001b[0m \u001b[31m17.8 MB/s\u001b[0m eta \u001b[36m0:00:00\u001b[0m\n",
            "\u001b[?25hBuilding wheels for collected packages: pyspark\n",
            "  Building wheel for pyspark (setup.py) ... \u001b[?25l\u001b[?25hdone\n",
            "  Created wheel for pyspark: filename=pyspark-3.0.0-py2.py3-none-any.whl size=205044159 sha256=c11b9cbc7821c2bc6620c972d06c79c7755d6f4cd07ce891985cfd390baa1d0d\n",
            "  Stored in directory: /root/.cache/pip/wheels/b1/bb/8b/ca24d3f756f2ed967225b0871898869db676eb5846df5adc56\n",
            "Successfully built pyspark\n",
            "Installing collected packages: py4j, pyspark\n",
            "  Attempting uninstall: py4j\n",
            "    Found existing installation: py4j 0.10.9.7\n",
            "    Uninstalling py4j-0.10.9.7:\n",
            "      Successfully uninstalled py4j-0.10.9.7\n",
            "Successfully installed py4j-0.10.9 pyspark-3.0.0\n"
          ]
        }
      ]
    },
    {
      "cell_type": "markdown",
      "metadata": {
        "id": "iox_ufgbqDXa"
      },
      "source": [
        "<h1><center>Инициализация</center></h1>"
      ]
    },
    {
      "cell_type": "code",
      "source": [
        "from pyspark import SparkContext, SparkConf\n",
        "import pyspark.sql as sql\n",
        "from pyspark.sql import SparkSession\n",
        "from pyspark.sql.types import DoubleType\n",
        "from pyspark.sql.functions import udf, col, max, sum, countDistinct"
      ],
      "metadata": {
        "id": "Q6Mu_GodJPpQ"
      },
      "execution_count": 6,
      "outputs": []
    },
    {
      "cell_type": "code",
      "source": [
        "spark = SparkSession \\\n",
        "    .builder \\\n",
        "    .appName(\"L1_interactive_bike_analysis\") \\\n",
        "    .getOrCreate()"
      ],
      "metadata": {
        "id": "y4FJqAjJLwXX"
      },
      "execution_count": 7,
      "outputs": []
    },
    {
      "cell_type": "markdown",
      "metadata": {
        "id": "FFnYZltvqLgt"
      },
      "source": [
        "<h1><center>Загрузка данных</center></h1>"
      ]
    },
    {
      "cell_type": "code",
      "source": [
        "import os\n",
        "data_path = os.path.join(os.curdir, \"data\")\n",
        "trips_path = os.path.join(\"trips.csv\")\n",
        "stations_path = os.path.join(\"stations.csv\")"
      ],
      "metadata": {
        "id": "iexpAYsaONcP"
      },
      "execution_count": 8,
      "outputs": []
    },
    {
      "cell_type": "code",
      "source": [
        "trips = spark.read \\\n",
        "        .option(\"header\", True) \\\n",
        "        .option(\"inferSchema\", True) \\\n",
        "        .option(\"DateTimeFormat\", 'M/d/y H:m') \\\n",
        "        .csv(trips_path)\n",
        "\n",
        "stat = spark.read \\\n",
        "        .option(\"header\", True) \\\n",
        "        .option(\"inferSchema\", True) \\\n",
        "        .option(\"DateTimeFormat\", 'M/d/y H:m') \\\n",
        "        .csv(stations_path)"
      ],
      "metadata": {
        "id": "QFXiIwh2SxkG"
      },
      "execution_count": 9,
      "outputs": []
    },
    {
      "cell_type": "markdown",
      "metadata": {
        "id": "YR1CO3FTqO5h"
      },
      "source": [
        "<a id='Задачи для данных велопарковок Сан-Франциско (trips.csv, stations.csv):'></a>\n",
        "## Задачи для данных велопарковок Сан-Франциско (trips.csv, stations.csv):\n",
        "><li>Найти велосипед с максимальным временем пробега.\n",
        "><li>Найти наибольшее геодезическое расстояние между станциями.\n",
        "><li>Найти путь велосипеда с максимальным временем пробега через станции.\n",
        "><li>Найти количество велосипедов в системе.\n",
        "><li>Найти пользователей потративших на поездки более 3 часов."
      ]
    },
    {
      "cell_type": "markdown",
      "metadata": {
        "id": "bGbIBPLHqVXc"
      },
      "source": [
        "<h1>1. Найти велосипед с максимальным временем пробега</h1>"
      ]
    },
    {
      "cell_type": "code",
      "source": [
        "trip_dur = trips.groupBy(\"bike_id\").agg(sum(col(\"duration\")).alias(\"duration\")) #группировка велосипедов по id; подсчет времени пробега для каждого\n",
        "trips_dur = trip_dur.orderBy(col(\"duration\").desc()).first() #велосипед с макс пробегом\n",
        "bike_id = trips_dur[\"bike_id\"]\n",
        "dur = trips_dur[\"duration\"]\n",
        "print(f\"Велосипед {bike_id} с макс временем {dur}\")"
      ],
      "metadata": {
        "id": "Zrp8QKhQSGUe",
        "colab": {
          "base_uri": "https://localhost:8080/"
        },
        "outputId": "b7bc8027-e856-4671-e3e5-4057eab93abb"
      },
      "execution_count": 18,
      "outputs": [
        {
          "output_type": "stream",
          "name": "stdout",
          "text": [
            "Велосипед 535 с макс временем 18611693\n"
          ]
        }
      ]
    },
    {
      "cell_type": "markdown",
      "source": [
        "<h1>2. Найти наибольшее геодезическое расстояние между станциями</h1>"
      ],
      "metadata": {
        "id": "GIY6f_lZXxUN"
      }
    },
    {
      "cell_type": "code",
      "source": [
        "from math import sqrt, radians, sin, cos, atan2\n",
        "\n",
        "def dist(l1, long1, l2, long2):\n",
        "    R = 6373\n",
        "    l1 = radians(l1)\n",
        "    l2 = radians(l2)\n",
        "\n",
        "    long1 = radians(long1)\n",
        "    long2 = radians(long2)\n",
        "\n",
        "    dist = R * (2 * atan2(sqrt(sin((l2 - l1) / 2)**2 + cos(l1) * cos(l2) * sin((long2 - long1) / 2)**2), sqrt(1 - (sin((l2 - l1) / 2)**2 + cos(l1) * cos(l2) * sin((long2 - long1) / 2)**2))))\n",
        "\n",
        "    return dist\n",
        "\n",
        "\n",
        "geod_dist = udf(dist, DoubleType())\n",
        "\n",
        "station = stat.alias(\"station1\").crossJoin(stat.alias(\"station2\")) #все пары станций\n",
        "station_distance = station.withColumn(\"geodesic_distance\", geod_dist(col(\"station1.lat\"), col(\"station1.long\"), col(\"station2.lat\"), col(\"station2.long\")))#расстояние для каждой пары\n",
        "\n",
        "dist = station_distance.selectExpr(\"max(geodesic_distance) as max_distance\").collect()[0][\"max_distance\"]\n",
        "print(f\"Наибольшее расстояние: {dist}\")"
      ],
      "metadata": {
        "id": "0Hk98dAoX7SE",
        "colab": {
          "base_uri": "https://localhost:8080/"
        },
        "outputId": "42faeb85-6470-406e-ec0b-f1a223737529"
      },
      "execution_count": 22,
      "outputs": [
        {
          "output_type": "stream",
          "name": "stdout",
          "text": [
            "Наибольшее расстояние: 69.9428256877473\n"
          ]
        }
      ]
    },
    {
      "cell_type": "markdown",
      "source": [
        "<h1>3. Найти путь велосипеда с максимальным временем пробега через станции</h1>"
      ],
      "metadata": {
        "id": "1DW__Qdo8qxp"
      }
    },
    {
      "cell_type": "code",
      "source": [
        "dur = trips.select(\"start_station_name\", \"end_station_name\", \"duration\").orderBy(col(\"duration\").desc()).first() #ищем наиболее длительную поездку через сортировку\n",
        "\n",
        "one = dur[\"start_station_name\"] #начальная станция\n",
        "two = dur[\"end_station_name\"] #конечная станция\n",
        "time = dur[\"duration\"] #время поездки\n",
        "\n",
        "print(f\"Самая длинная поездка: из \\\"{one}\\\" в \\\"{two}\\\" занимает {time}\")"
      ],
      "metadata": {
        "colab": {
          "base_uri": "https://localhost:8080/"
        },
        "id": "OPhndubO8rqr",
        "outputId": "5dc392d7-dbba-4767-fcea-e169dec43ee3"
      },
      "execution_count": 23,
      "outputs": [
        {
          "output_type": "stream",
          "name": "stdout",
          "text": [
            "Самая длинная поездка: из \"South Van Ness at Market\" в \"2nd at Folsom\" занимает 17270400\n"
          ]
        }
      ]
    },
    {
      "cell_type": "markdown",
      "source": [
        "<h1>4. Найти количество велосипедов в системе</h1>"
      ],
      "metadata": {
        "id": "BgQUldTyC4-5"
      }
    },
    {
      "cell_type": "code",
      "source": [
        "count = trips.agg(countDistinct(\"bike_id\").alias(\"bike_count\")).collect()[0][\"bike_count\"]\n",
        "\n",
        "print(f\"Количество велосипедов: {count}\")"
      ],
      "metadata": {
        "colab": {
          "base_uri": "https://localhost:8080/"
        },
        "id": "7leAyi2bC5hp",
        "outputId": "2ccc90f7-fd79-4a36-bfee-e5d037a15704"
      },
      "execution_count": 24,
      "outputs": [
        {
          "output_type": "stream",
          "name": "stdout",
          "text": [
            "Количество велосипедов: 700\n"
          ]
        }
      ]
    },
    {
      "cell_type": "markdown",
      "source": [
        "<h1>5. Найти пользователей потративших на поездки более 3 часов</h1>"
      ],
      "metadata": {
        "id": "3ueExUFTC6Pm"
      }
    },
    {
      "cell_type": "code",
      "source": [
        "user = trips.groupBy(\"bike_id\").sum(\"duration\").withColumnRenamed(\"sum(duration)\", \"time\")#группируем по id и считаем общее время\n",
        "\n",
        "user.filter(\"time>10800\").show()"
      ],
      "metadata": {
        "colab": {
          "base_uri": "https://localhost:8080/"
        },
        "id": "lUblt8BUC6rC",
        "outputId": "5dadc124-beb2-4f40-d5bc-9d63157d3463"
      },
      "execution_count": 25,
      "outputs": [
        {
          "output_type": "stream",
          "name": "stdout",
          "text": [
            "+-------+-------+\n",
            "|bike_id|   time|\n",
            "+-------+-------+\n",
            "|    471|1718831|\n",
            "|    496|1679568|\n",
            "|    148| 332138|\n",
            "|    463|1722796|\n",
            "|    540|1752835|\n",
            "|    392|1789476|\n",
            "|    623|2037219|\n",
            "|    243| 307458|\n",
            "|    516|1896751|\n",
            "|     31| 407907|\n",
            "|    580|1034382|\n",
            "|    137|1529200|\n",
            "|    251|1282980|\n",
            "|    451|1695574|\n",
            "|     85|1214769|\n",
            "|    458|1647080|\n",
            "|     65| 216922|\n",
            "|    588| 266415|\n",
            "|    255| 396395|\n",
            "|     53| 226389|\n",
            "+-------+-------+\n",
            "only showing top 20 rows\n",
            "\n"
          ]
        }
      ]
    }
  ]
}